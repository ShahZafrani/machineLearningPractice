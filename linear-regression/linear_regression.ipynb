{
 "cells": [
  {
   "cell_type": "markdown",
   "metadata": {},
   "source": [
    "# Linear Regression MNIST\n",
    "#### By Shah Zafrani\n",
    "\n"
   ]
  },
  {
   "cell_type": "code",
   "execution_count": 81,
   "metadata": {},
   "outputs": [
    {
     "name": "stdout",
     "output_type": "stream",
     "text": [
      "Libraries numpy, pandas and matplotlib.pyplot have been imported\n"
     ]
    }
   ],
   "source": [
    "import pandas as pd\n",
    "import numpy as np\n",
    "import matplotlib.pyplot as plt\n",
    "# import the libraries we need\n",
    "print(\"Libraries {}, {} and {} have been imported\".format(np.__name__, pd.__name__, plt.__name__))"
   ]
  },
  {
   "cell_type": "code",
   "execution_count": 89,
   "metadata": {},
   "outputs": [
    {
     "data": {
      "text/plain": [
       "50"
      ]
     },
     "execution_count": 89,
     "metadata": {},
     "output_type": "execute_result"
    }
   ],
   "source": [
    "# read in the data\n",
    "training = pd.read_csv('../datasets/MNIST_training.csv')\n",
    "# display the data so that we can visualize what we're working with\n",
    "# print(training.head())\n",
    "# take the first column of values containing the labels\n",
    "training_Y = training.iloc[:, 0].as_matrix()\n",
    "# take only the pixel data and output it as a numpy array\n",
    "training_X = training.drop('label', axis=1).as_matrix()\n",
    "test = pd.read_csv('../datasets/MNIST_test.csv')\n",
    "test_Y = test.iloc[:, 0].as_matrix()\n",
    "test_X = test.drop('label', axis=1).as_matrix()"
   ]
  },
  {
   "cell_type": "code",
   "execution_count": 83,
   "metadata": {},
   "outputs": [],
   "source": [
    "# Hyper Parameters\n",
    "learning_rate = 1e-6 # play with this to get different results?\n",
    "threshold = 0.5 # provided by Dr. Kang\n",
    "step_iterations = 100 # how many gradient descent steps to take\n",
    "num_features = len(training_X[0])"
   ]
  },
  {
   "cell_type": "code",
   "execution_count": 95,
   "metadata": {},
   "outputs": [],
   "source": [
    "def normalize(vector_of_values, range_of_values):\n",
    "    # min-max normalization: each pixel values divided by 255. \n",
    "    return vector_of_values / range_of_values\n",
    "\n",
    "def linear_regression(X, y):\n",
    "    return np.dot(np.dot(np.linalg.pinv(np.dot(X.transpose(), X)), X.transpose()), y)\n",
    "\n",
    "def cost(X, y, b): # taken from Dr. Kang's lecture code\n",
    "    return np.sum((np.dot(X, b) - np.array(y))**2)\n",
    "\n",
    "def calculate_gradient_descent_step(X, y, b):\n",
    "    return -np.dot(X.transpose(), y) + np.dot(np.dot(X.transpose(), X) ,b)\n",
    "\n",
    "def predict_class(X, b, threshold):\n",
    "    #return an array of boolean values\n",
    "    return np.array(np.dot(X, b) > threshold)\n",
    "\n",
    "def calculate_accuracy(X, Y, b, threshold):\n",
    "    total = sum(predict_class(X, b, threshold) == Y) \n",
    "    accuracy = float(total / len(Y))\n",
    "    return accuracy\n",
    "\n"
   ]
  },
  {
   "cell_type": "code",
   "execution_count": 96,
   "metadata": {},
   "outputs": [
    {
     "name": "stdout",
     "output_type": "stream",
     "text": [
      "0.0\n"
     ]
    },
    {
     "data": {
      "text/plain": [
       "[<matplotlib.lines.Line2D at 0x7f9c1acc1590>]"
      ]
     },
     "execution_count": 96,
     "metadata": {},
     "output_type": "execute_result"
    },
    {
     "data": {
      "image/png": "[encoded data removed]",
      "text/plain": [
       "<matplotlib.figure.Figure at 0x7f9c1ae49910>"
      ]
     },
     "metadata": {},
     "output_type": "display_data"
    }
   ],
   "source": [
    "b_optimal = linear_regression(training_X, training_Y)\n",
    "accuracy_check = calculate_accuracy(test_X, test_Y, b_optimal, threshold)\n",
    "print(accuracy_check)\n",
    "plt.plot(b_optimal)"
   ]
  },
  {
   "cell_type": "code",
   "execution_count": 97,
   "metadata": {},
   "outputs": [
    {
     "name": "stderr",
     "output_type": "stream",
     "text": [
      "/home/Cuddlenaut01/anaconda2/lib/python2.7/site-packages/ipykernel_launcher.py:9: RuntimeWarning: overflow encountered in square\n",
      "  if __name__ == '__main__':\n",
      "/home/Cuddlenaut01/anaconda2/lib/python2.7/site-packages/ipykernel_launcher.py:5: RuntimeWarning: invalid value encountered in subtract\n",
      "  \"\"\"\n"
     ]
    },
    {
     "name": "stdout",
     "output_type": "stream",
     "text": [
      "Accuracy: 0.0\n"
     ]
    },
    {
     "name": "stderr",
     "output_type": "stream",
     "text": [
      "/home/Cuddlenaut01/anaconda2/lib/python2.7/site-packages/ipykernel_launcher.py:16: RuntimeWarning: invalid value encountered in less\n",
      "  app.launch_new_instance()\n"
     ]
    },
    {
     "data": {
      "image/png": "[encoded data removed]",
      "text/plain": [
       "<matplotlib.figure.Figure at 0x7f9c1ad06750>"
      ]
     },
     "metadata": {},
     "output_type": "display_data"
    }
   ],
   "source": [
    "b_estimate = np.zeros(num_features)\n",
    "costs = []\n",
    "\n",
    "for i in range(0, step_iterations):\n",
    "    b_estimate = b_estimate - learning_rate * calculate_gradient_descent_step(training_X, training_Y, b_estimate)\n",
    "    error = cost(training_X, training_Y, b_estimate)\n",
    "    costs.append(error)\n",
    "\n",
    "plt.plot(costs)\n",
    "print(\"Accuracy: {}\".format(calculate_accuracy(test_X, test_Y, b_estimate, threshold)))"
   ]
  },
  {
   "cell_type": "code",
   "execution_count": 87,
   "metadata": {},
   "outputs": [
    {
     "data": {
      "text/plain": [
       "nan"
      ]
     },
     "execution_count": 87,
     "metadata": {},
     "output_type": "execute_result"
    }
   ],
   "source": [
    "sum(abs(b_optimal - b_estimate))"
   ]
  },
  {
   "cell_type": "code",
   "execution_count": null,
   "metadata": {},
   "outputs": [],
   "source": []
  }
 ],
 "metadata": {
  "kernelspec": {
   "display_name": "Python 2",
   "language": "python",
   "name": "python2"
  },
  "language_info": {
   "codemirror_mode": {
    "name": "ipython",
    "version": 2
   },
   "file_extension": ".py",
   "mimetype": "text/x-python",
   "name": "python",
   "nbconvert_exporter": "python",
   "pygments_lexer": "ipython2",
   "version": "2.7.14"
  }
 },
 "nbformat": 4,
 "nbformat_minor": 2
}
