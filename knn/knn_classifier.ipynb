{
 "cells": [
  {
   "cell_type": "markdown",
   "metadata": {},
   "source": [
    "# K-Nearest Neighbors MNIST Classifier\n",
    "### By Shah Zafrani\n",
    "1. For each data in “MNIST_test.csv”, compute distances with the training data.\n",
    "2. Find the K-nearest neighbors, and decide the majority class of them.\n",
    "3. Compare the prediction with the ground truth\n",
    "    a. Correctly classified if the predicted label and ground truth is identical.\n",
    "    b. Incorrectly classified if the predicted label and ground truth is NOT identical.\n",
    "4. Repeat Step 1-4 for all data in the test data\n",
    "5. Then, you can count how many test data are correctly classified and incorrectly classified.\n",
    "6. Show the accuracy of your KNN. Compute accuracy by\n",
    "\n",
    "#### Steps:\n",
    "+ Import data\n",
    "+ Write a distance function\n",
    "+ Write a loop to iterate through test cases\n",
    "+ Write a way to get the k nearest items to a test case\n",
    "+ Compute and output the accuracy\n"
   ]
  },
  {
   "cell_type": "code",
   "execution_count": 4,
   "metadata": {},
   "outputs": [
    {
     "name": "stdout",
     "output_type": "stream",
     "text": [
      "Libraries numpy and pandas have been imported\n"
     ]
    }
   ],
   "source": [
    "import pandas as pd\n",
    "import numpy as np\n",
    "# import the libraries we need\n",
    "print(\"Libraries {} and {} have been imported\".format(np.__name__, pd.__name__))"
   ]
  },
  {
   "cell_type": "code",
   "execution_count": 5,
   "metadata": {},
   "outputs": [
    {
     "name": "stdout",
     "output_type": "stream",
     "text": [
      "   label  pixel0  pixel1  pixel2  pixel3  pixel4  pixel5  pixel6  pixel7  \\\n",
      "0      0       0       0       0       0       0       0       0       0   \n",
      "1      0       0       0       0       0       0       0       0       0   \n",
      "2      0       0       0       0       0       0       0       0       0   \n",
      "3      0       0       0       0       0       0       0       0       0   \n",
      "4      0       0       0       0       0       0       0       0       0   \n",
      "\n",
      "   pixel8    ...     pixel774  pixel775  pixel776  pixel777  pixel778  \\\n",
      "0       0    ...            0         0         0         0         0   \n",
      "1       0    ...            0         0         0         0         0   \n",
      "2       0    ...            0         0         0         0         0   \n",
      "3       0    ...            0         0         0         0         0   \n",
      "4       0    ...            0         0         0         0         0   \n",
      "\n",
      "   pixel779  pixel780  pixel781  pixel782  pixel783  \n",
      "0         0         0         0         0         0  \n",
      "1         0         0         0         0         0  \n",
      "2         0         0         0         0         0  \n",
      "3         0         0         0         0         0  \n",
      "4         0         0         0         0         0  \n",
      "\n",
      "[5 rows x 785 columns]\n"
     ]
    }
   ],
   "source": [
    "# read in the data\n",
    "training = pd.read_csv('MNIST_training.csv')\n",
    "# display the data so that we can visualize what we're working with\n",
    "print(training.head())\n",
    "# take the first column of values containing the labels\n",
    "training_labels = training.iloc[:, 0]\n",
    "# take only the pixel data and output it as a numpy array\n",
    "training_data = training.drop('label', axis=1).as_matrix()\n",
    "test = pd.read_csv('MNIST_test.csv')\n",
    "test_labels = test.iloc[:, 0]\n",
    "test_data = test.drop('label', axis=1).as_matrix()"
   ]
  },
  {
   "cell_type": "code",
   "execution_count": 12,
   "metadata": {},
   "outputs": [
    {
     "name": "stdout",
     "output_type": "stream",
     "text": [
      "5.0\n"
     ]
    }
   ],
   "source": [
    "def distance(training, test):\n",
    "    #we use this method to increase runtime efficiency by taking advantage of numpy\n",
    "    total = np.sum((training - test)**2)\n",
    "    # for i in range(1, len(test)-1):\n",
    "    # \tdiff = training[i] - test[i]\n",
    "    # \ttotal += diff**2\n",
    "    return np.sqrt(total)\n",
    "test_x = np.array([0, 5])\n",
    "test_y = np.array([0, 0])\n",
    "# intuitively we know that the distance here should be 5,\n",
    "#  so we test it out with a vector of 2 values and we know it will work for 784 values\n",
    "print(distance(test_x, test_y))"
   ]
  },
  {
   "cell_type": "code",
   "execution_count": 7,
   "metadata": {},
   "outputs": [
    {
     "name": "stdout",
     "output_type": "stream",
     "text": [
      "3\n"
     ]
    }
   ],
   "source": [
    "def get_most_common(array):\n",
    "    digits = np.zeros(10, dtype=int)\n",
    "    for num in array:\n",
    "        digits[num] +=1\n",
    "    return digits.argmax()\n",
    "# We will test this with a simple array\n",
    "print(get_most_common([0, 1, 2, 2, 3, 3, 3]))"
   ]
  },
  {
   "cell_type": "code",
   "execution_count": 8,
   "metadata": {
    "collapsed": true
   },
   "outputs": [],
   "source": [
    "# simple accuracy evaluation function\n",
    "def evaluate_accuracy(knn_predictions):\n",
    "    truth = np.array(test_labels) == np.array(knn_predictions)\n",
    "    return sum(truth)"
   ]
  },
  {
   "cell_type": "markdown",
   "metadata": {},
   "source": [
    "### Now we're ready to implement our knn classifier that will take in a set of training data and a set of test data"
   ]
  },
  {
   "cell_type": "code",
   "execution_count": 9,
   "metadata": {
    "collapsed": true
   },
   "outputs": [],
   "source": [
    "def knn(training_data, test_data, k):\n",
    "    knn_predictions = []\n",
    "    for test_case in test_data:\n",
    "        dists = []\n",
    "        for index, d in enumerate(training_data):\n",
    "            dists.append([training_labels[index], distance(d, test_case)])\n",
    "        dists_from_k = sorted(dists, key=lambda tup: tup[1])\n",
    "        k_nearest = []\n",
    "        for index in range(0, k):\n",
    "            k_nearest.append(dists_from_k[index][0])\n",
    "        # gather consensus from top k elements from list\n",
    "        knn_predictions.append(get_most_common(k_nearest))\n",
    "    return knn_predictions"
   ]
  },
  {
   "cell_type": "markdown",
   "metadata": {},
   "source": [
    "### Finally we put it all together:"
   ]
  },
  {
   "cell_type": "code",
   "execution_count": 10,
   "metadata": {},
   "outputs": [],
   "source": [
    "\n",
    "def optimize_k_value(k_range):\n",
    "    print(\"testing odd values up to {} for k. This may take a while, go read some xkcd comics and come back later...\".format(k_range))\n",
    "    k_results = []\n",
    "    for kval in range(1, k_range, 2):\n",
    "        accuracy = (evaluate_accuracy(knn(training_data, test_data, kval)) / float(len(test_labels))) * 100\n",
    "        k_results.append([\"kval: {}, accuracy: {} percent\".format(kval, accuracy)])\n",
    "    for result in k_results:\n",
    "        print(result)"
   ]
  },
  {
   "cell_type": "code",
   "execution_count": 11,
   "metadata": {},
   "outputs": [
    {
     "name": "stdout",
     "output_type": "stream",
     "text": [
      "testing odd values up to 14 for k. This may take a while, go read some xkcd comics and come back later...\n",
      "['kval: 1, accuracy: 84.0 percent']\n",
      "['kval: 3, accuracy: 88.0 percent']\n",
      "['kval: 5, accuracy: 86.0 percent']\n",
      "['kval: 7, accuracy: 90.0 percent']\n",
      "['kval: 9, accuracy: 90.0 percent']\n",
      "['kval: 11, accuracy: 84.0 percent']\n",
      "['kval: 13, accuracy: 82.0 percent']\n"
     ]
    }
   ],
   "source": [
    "\n",
    "optimize_k_value(14)"
   ]
  },
  {
   "cell_type": "code",
   "execution_count": null,
   "metadata": {
    "collapsed": true
   },
   "outputs": [],
   "source": []
  }
 ],
 "metadata": {
  "kernelspec": {
   "display_name": "Python 3",
   "language": "python",
   "name": "python3"
  },
  "language_info": {
   "codemirror_mode": {
    "name": "ipython",
    "version": 3
   },
   "file_extension": ".py",
   "mimetype": "text/x-python",
   "name": "python",
   "nbconvert_exporter": "python",
   "pygments_lexer": "ipython3",
   "version": "3.6.3"
  }
 },
 "nbformat": 4,
 "nbformat_minor": 2
}
